{
 "cells": [
  {
   "cell_type": "markdown",
   "metadata": {
    "id": "H9wADwK78DCz"
   },
   "source": [
    "# Proyek Analisis Data: Bike Sharing Dataset\n",
    "- **Nama:** Steven Lukas Samosir\n",
    "- **Email:** mc114d5y1917@student.devacademy.id\n",
    "- **Email terdaftar:** stevenlukas990@gmail.com\n",
    "- **ID Dicoding:** MC114D5Y1917"
   ]
  },
  {
   "cell_type": "markdown",
   "metadata": {
    "id": "eE0raob58DC0"
   },
   "source": [
    "## Menentukan Pertanyaan Bisnis"
   ]
  },
  {
   "cell_type": "markdown",
   "metadata": {
    "id": "GmQeQ5YF8DC0"
   },
   "source": [
    "-  Apa perbedaan dampak cuaca terhadap jumlah penyewaan sepeda di hari kerja dan akhir pekan selama setahun terakhir?\n",
    "\n",
    "- Kapan waktu puncak penyewaan sepeda terjadi pada hari kerja dan akhir pekan, serta bagaimana variasi pola tersebut di setiap musim?"
   ]
  },
  {
   "cell_type": "markdown",
   "metadata": {
    "id": "H-z4QGlO8DC1"
   },
   "source": [
    "## Import Semua Packages/Library yang Digunakan"
   ]
  },
  {
   "cell_type": "code",
   "execution_count": 1,
   "metadata": {
    "id": "FVYwaObI8DC1"
   },
   "outputs": [],
   "source": [
    "import matplotlib.pyplot as plt\n",
    "import seaborn as sns\n",
    "import pandas as pd\n",
    "import numpy as np\n",
    "import matplotlib.lines as mlines"
   ]
  },
  {
   "cell_type": "markdown",
   "metadata": {
    "id": "h_Sh51Xy8DC1"
   },
   "source": [
    "## Data Wrangling"
   ]
  },
  {
   "cell_type": "markdown",
   "metadata": {
    "id": "sXU2GBYu8DC1"
   },
   "source": [
    "### Gathering Data"
   ]
  },
  {
   "cell_type": "code",
   "execution_count": 2,
   "metadata": {
    "id": "zjCBk1BI8DC1"
   },
   "outputs": [
    {
     "ename": "FileNotFoundError",
     "evalue": "[Errno 2] No such file or directory: '/content/sample_data/day.csv'",
     "output_type": "error",
     "traceback": [
      "\u001b[1;31m---------------------------------------------------------------------------\u001b[0m",
      "\u001b[1;31mFileNotFoundError\u001b[0m                         Traceback (most recent call last)",
      "Cell \u001b[1;32mIn[2], line 2\u001b[0m\n\u001b[0;32m      1\u001b[0m \u001b[38;5;66;03m# Memuat data dari file day.csv yang ada di folder sample_data\u001b[39;00m\n\u001b[1;32m----> 2\u001b[0m day_df \u001b[38;5;241m=\u001b[39m \u001b[43mpd\u001b[49m\u001b[38;5;241;43m.\u001b[39;49m\u001b[43mread_csv\u001b[49m\u001b[43m(\u001b[49m\u001b[38;5;124;43m'\u001b[39;49m\u001b[38;5;124;43m/content/sample_data/day.csv\u001b[39;49m\u001b[38;5;124;43m'\u001b[39;49m\u001b[43m)\u001b[49m\n\u001b[0;32m      4\u001b[0m \u001b[38;5;66;03m# Memuat data dari file hour.csv yang ada di folder sample_data\u001b[39;00m\n\u001b[0;32m      5\u001b[0m hour_df \u001b[38;5;241m=\u001b[39m pd\u001b[38;5;241m.\u001b[39mread_csv(\u001b[38;5;124m'\u001b[39m\u001b[38;5;124m/content/sample_data/hour.csv\u001b[39m\u001b[38;5;124m'\u001b[39m)\n",
      "File \u001b[1;32m~\\AppData\\Local\\Programs\\Python\\Python311\\Lib\\site-packages\\pandas\\io\\parsers\\readers.py:1026\u001b[0m, in \u001b[0;36mread_csv\u001b[1;34m(filepath_or_buffer, sep, delimiter, header, names, index_col, usecols, dtype, engine, converters, true_values, false_values, skipinitialspace, skiprows, skipfooter, nrows, na_values, keep_default_na, na_filter, verbose, skip_blank_lines, parse_dates, infer_datetime_format, keep_date_col, date_parser, date_format, dayfirst, cache_dates, iterator, chunksize, compression, thousands, decimal, lineterminator, quotechar, quoting, doublequote, escapechar, comment, encoding, encoding_errors, dialect, on_bad_lines, delim_whitespace, low_memory, memory_map, float_precision, storage_options, dtype_backend)\u001b[0m\n\u001b[0;32m   1013\u001b[0m kwds_defaults \u001b[38;5;241m=\u001b[39m _refine_defaults_read(\n\u001b[0;32m   1014\u001b[0m     dialect,\n\u001b[0;32m   1015\u001b[0m     delimiter,\n\u001b[1;32m   (...)\u001b[0m\n\u001b[0;32m   1022\u001b[0m     dtype_backend\u001b[38;5;241m=\u001b[39mdtype_backend,\n\u001b[0;32m   1023\u001b[0m )\n\u001b[0;32m   1024\u001b[0m kwds\u001b[38;5;241m.\u001b[39mupdate(kwds_defaults)\n\u001b[1;32m-> 1026\u001b[0m \u001b[38;5;28;01mreturn\u001b[39;00m \u001b[43m_read\u001b[49m\u001b[43m(\u001b[49m\u001b[43mfilepath_or_buffer\u001b[49m\u001b[43m,\u001b[49m\u001b[43m \u001b[49m\u001b[43mkwds\u001b[49m\u001b[43m)\u001b[49m\n",
      "File \u001b[1;32m~\\AppData\\Local\\Programs\\Python\\Python311\\Lib\\site-packages\\pandas\\io\\parsers\\readers.py:620\u001b[0m, in \u001b[0;36m_read\u001b[1;34m(filepath_or_buffer, kwds)\u001b[0m\n\u001b[0;32m    617\u001b[0m _validate_names(kwds\u001b[38;5;241m.\u001b[39mget(\u001b[38;5;124m\"\u001b[39m\u001b[38;5;124mnames\u001b[39m\u001b[38;5;124m\"\u001b[39m, \u001b[38;5;28;01mNone\u001b[39;00m))\n\u001b[0;32m    619\u001b[0m \u001b[38;5;66;03m# Create the parser.\u001b[39;00m\n\u001b[1;32m--> 620\u001b[0m parser \u001b[38;5;241m=\u001b[39m \u001b[43mTextFileReader\u001b[49m\u001b[43m(\u001b[49m\u001b[43mfilepath_or_buffer\u001b[49m\u001b[43m,\u001b[49m\u001b[43m \u001b[49m\u001b[38;5;241;43m*\u001b[39;49m\u001b[38;5;241;43m*\u001b[39;49m\u001b[43mkwds\u001b[49m\u001b[43m)\u001b[49m\n\u001b[0;32m    622\u001b[0m \u001b[38;5;28;01mif\u001b[39;00m chunksize \u001b[38;5;129;01mor\u001b[39;00m iterator:\n\u001b[0;32m    623\u001b[0m     \u001b[38;5;28;01mreturn\u001b[39;00m parser\n",
      "File \u001b[1;32m~\\AppData\\Local\\Programs\\Python\\Python311\\Lib\\site-packages\\pandas\\io\\parsers\\readers.py:1620\u001b[0m, in \u001b[0;36mTextFileReader.__init__\u001b[1;34m(self, f, engine, **kwds)\u001b[0m\n\u001b[0;32m   1617\u001b[0m     \u001b[38;5;28mself\u001b[39m\u001b[38;5;241m.\u001b[39moptions[\u001b[38;5;124m\"\u001b[39m\u001b[38;5;124mhas_index_names\u001b[39m\u001b[38;5;124m\"\u001b[39m] \u001b[38;5;241m=\u001b[39m kwds[\u001b[38;5;124m\"\u001b[39m\u001b[38;5;124mhas_index_names\u001b[39m\u001b[38;5;124m\"\u001b[39m]\n\u001b[0;32m   1619\u001b[0m \u001b[38;5;28mself\u001b[39m\u001b[38;5;241m.\u001b[39mhandles: IOHandles \u001b[38;5;241m|\u001b[39m \u001b[38;5;28;01mNone\u001b[39;00m \u001b[38;5;241m=\u001b[39m \u001b[38;5;28;01mNone\u001b[39;00m\n\u001b[1;32m-> 1620\u001b[0m \u001b[38;5;28mself\u001b[39m\u001b[38;5;241m.\u001b[39m_engine \u001b[38;5;241m=\u001b[39m \u001b[38;5;28;43mself\u001b[39;49m\u001b[38;5;241;43m.\u001b[39;49m\u001b[43m_make_engine\u001b[49m\u001b[43m(\u001b[49m\u001b[43mf\u001b[49m\u001b[43m,\u001b[49m\u001b[43m \u001b[49m\u001b[38;5;28;43mself\u001b[39;49m\u001b[38;5;241;43m.\u001b[39;49m\u001b[43mengine\u001b[49m\u001b[43m)\u001b[49m\n",
      "File \u001b[1;32m~\\AppData\\Local\\Programs\\Python\\Python311\\Lib\\site-packages\\pandas\\io\\parsers\\readers.py:1880\u001b[0m, in \u001b[0;36mTextFileReader._make_engine\u001b[1;34m(self, f, engine)\u001b[0m\n\u001b[0;32m   1878\u001b[0m     \u001b[38;5;28;01mif\u001b[39;00m \u001b[38;5;124m\"\u001b[39m\u001b[38;5;124mb\u001b[39m\u001b[38;5;124m\"\u001b[39m \u001b[38;5;129;01mnot\u001b[39;00m \u001b[38;5;129;01min\u001b[39;00m mode:\n\u001b[0;32m   1879\u001b[0m         mode \u001b[38;5;241m+\u001b[39m\u001b[38;5;241m=\u001b[39m \u001b[38;5;124m\"\u001b[39m\u001b[38;5;124mb\u001b[39m\u001b[38;5;124m\"\u001b[39m\n\u001b[1;32m-> 1880\u001b[0m \u001b[38;5;28mself\u001b[39m\u001b[38;5;241m.\u001b[39mhandles \u001b[38;5;241m=\u001b[39m \u001b[43mget_handle\u001b[49m\u001b[43m(\u001b[49m\n\u001b[0;32m   1881\u001b[0m \u001b[43m    \u001b[49m\u001b[43mf\u001b[49m\u001b[43m,\u001b[49m\n\u001b[0;32m   1882\u001b[0m \u001b[43m    \u001b[49m\u001b[43mmode\u001b[49m\u001b[43m,\u001b[49m\n\u001b[0;32m   1883\u001b[0m \u001b[43m    \u001b[49m\u001b[43mencoding\u001b[49m\u001b[38;5;241;43m=\u001b[39;49m\u001b[38;5;28;43mself\u001b[39;49m\u001b[38;5;241;43m.\u001b[39;49m\u001b[43moptions\u001b[49m\u001b[38;5;241;43m.\u001b[39;49m\u001b[43mget\u001b[49m\u001b[43m(\u001b[49m\u001b[38;5;124;43m\"\u001b[39;49m\u001b[38;5;124;43mencoding\u001b[39;49m\u001b[38;5;124;43m\"\u001b[39;49m\u001b[43m,\u001b[49m\u001b[43m \u001b[49m\u001b[38;5;28;43;01mNone\u001b[39;49;00m\u001b[43m)\u001b[49m\u001b[43m,\u001b[49m\n\u001b[0;32m   1884\u001b[0m \u001b[43m    \u001b[49m\u001b[43mcompression\u001b[49m\u001b[38;5;241;43m=\u001b[39;49m\u001b[38;5;28;43mself\u001b[39;49m\u001b[38;5;241;43m.\u001b[39;49m\u001b[43moptions\u001b[49m\u001b[38;5;241;43m.\u001b[39;49m\u001b[43mget\u001b[49m\u001b[43m(\u001b[49m\u001b[38;5;124;43m\"\u001b[39;49m\u001b[38;5;124;43mcompression\u001b[39;49m\u001b[38;5;124;43m\"\u001b[39;49m\u001b[43m,\u001b[49m\u001b[43m \u001b[49m\u001b[38;5;28;43;01mNone\u001b[39;49;00m\u001b[43m)\u001b[49m\u001b[43m,\u001b[49m\n\u001b[0;32m   1885\u001b[0m \u001b[43m    \u001b[49m\u001b[43mmemory_map\u001b[49m\u001b[38;5;241;43m=\u001b[39;49m\u001b[38;5;28;43mself\u001b[39;49m\u001b[38;5;241;43m.\u001b[39;49m\u001b[43moptions\u001b[49m\u001b[38;5;241;43m.\u001b[39;49m\u001b[43mget\u001b[49m\u001b[43m(\u001b[49m\u001b[38;5;124;43m\"\u001b[39;49m\u001b[38;5;124;43mmemory_map\u001b[39;49m\u001b[38;5;124;43m\"\u001b[39;49m\u001b[43m,\u001b[49m\u001b[43m \u001b[49m\u001b[38;5;28;43;01mFalse\u001b[39;49;00m\u001b[43m)\u001b[49m\u001b[43m,\u001b[49m\n\u001b[0;32m   1886\u001b[0m \u001b[43m    \u001b[49m\u001b[43mis_text\u001b[49m\u001b[38;5;241;43m=\u001b[39;49m\u001b[43mis_text\u001b[49m\u001b[43m,\u001b[49m\n\u001b[0;32m   1887\u001b[0m \u001b[43m    \u001b[49m\u001b[43merrors\u001b[49m\u001b[38;5;241;43m=\u001b[39;49m\u001b[38;5;28;43mself\u001b[39;49m\u001b[38;5;241;43m.\u001b[39;49m\u001b[43moptions\u001b[49m\u001b[38;5;241;43m.\u001b[39;49m\u001b[43mget\u001b[49m\u001b[43m(\u001b[49m\u001b[38;5;124;43m\"\u001b[39;49m\u001b[38;5;124;43mencoding_errors\u001b[39;49m\u001b[38;5;124;43m\"\u001b[39;49m\u001b[43m,\u001b[49m\u001b[43m \u001b[49m\u001b[38;5;124;43m\"\u001b[39;49m\u001b[38;5;124;43mstrict\u001b[39;49m\u001b[38;5;124;43m\"\u001b[39;49m\u001b[43m)\u001b[49m\u001b[43m,\u001b[49m\n\u001b[0;32m   1888\u001b[0m \u001b[43m    \u001b[49m\u001b[43mstorage_options\u001b[49m\u001b[38;5;241;43m=\u001b[39;49m\u001b[38;5;28;43mself\u001b[39;49m\u001b[38;5;241;43m.\u001b[39;49m\u001b[43moptions\u001b[49m\u001b[38;5;241;43m.\u001b[39;49m\u001b[43mget\u001b[49m\u001b[43m(\u001b[49m\u001b[38;5;124;43m\"\u001b[39;49m\u001b[38;5;124;43mstorage_options\u001b[39;49m\u001b[38;5;124;43m\"\u001b[39;49m\u001b[43m,\u001b[49m\u001b[43m \u001b[49m\u001b[38;5;28;43;01mNone\u001b[39;49;00m\u001b[43m)\u001b[49m\u001b[43m,\u001b[49m\n\u001b[0;32m   1889\u001b[0m \u001b[43m\u001b[49m\u001b[43m)\u001b[49m\n\u001b[0;32m   1890\u001b[0m \u001b[38;5;28;01massert\u001b[39;00m \u001b[38;5;28mself\u001b[39m\u001b[38;5;241m.\u001b[39mhandles \u001b[38;5;129;01mis\u001b[39;00m \u001b[38;5;129;01mnot\u001b[39;00m \u001b[38;5;28;01mNone\u001b[39;00m\n\u001b[0;32m   1891\u001b[0m f \u001b[38;5;241m=\u001b[39m \u001b[38;5;28mself\u001b[39m\u001b[38;5;241m.\u001b[39mhandles\u001b[38;5;241m.\u001b[39mhandle\n",
      "File \u001b[1;32m~\\AppData\\Local\\Programs\\Python\\Python311\\Lib\\site-packages\\pandas\\io\\common.py:873\u001b[0m, in \u001b[0;36mget_handle\u001b[1;34m(path_or_buf, mode, encoding, compression, memory_map, is_text, errors, storage_options)\u001b[0m\n\u001b[0;32m    868\u001b[0m \u001b[38;5;28;01melif\u001b[39;00m \u001b[38;5;28misinstance\u001b[39m(handle, \u001b[38;5;28mstr\u001b[39m):\n\u001b[0;32m    869\u001b[0m     \u001b[38;5;66;03m# Check whether the filename is to be opened in binary mode.\u001b[39;00m\n\u001b[0;32m    870\u001b[0m     \u001b[38;5;66;03m# Binary mode does not support 'encoding' and 'newline'.\u001b[39;00m\n\u001b[0;32m    871\u001b[0m     \u001b[38;5;28;01mif\u001b[39;00m ioargs\u001b[38;5;241m.\u001b[39mencoding \u001b[38;5;129;01mand\u001b[39;00m \u001b[38;5;124m\"\u001b[39m\u001b[38;5;124mb\u001b[39m\u001b[38;5;124m\"\u001b[39m \u001b[38;5;129;01mnot\u001b[39;00m \u001b[38;5;129;01min\u001b[39;00m ioargs\u001b[38;5;241m.\u001b[39mmode:\n\u001b[0;32m    872\u001b[0m         \u001b[38;5;66;03m# Encoding\u001b[39;00m\n\u001b[1;32m--> 873\u001b[0m         handle \u001b[38;5;241m=\u001b[39m \u001b[38;5;28;43mopen\u001b[39;49m\u001b[43m(\u001b[49m\n\u001b[0;32m    874\u001b[0m \u001b[43m            \u001b[49m\u001b[43mhandle\u001b[49m\u001b[43m,\u001b[49m\n\u001b[0;32m    875\u001b[0m \u001b[43m            \u001b[49m\u001b[43mioargs\u001b[49m\u001b[38;5;241;43m.\u001b[39;49m\u001b[43mmode\u001b[49m\u001b[43m,\u001b[49m\n\u001b[0;32m    876\u001b[0m \u001b[43m            \u001b[49m\u001b[43mencoding\u001b[49m\u001b[38;5;241;43m=\u001b[39;49m\u001b[43mioargs\u001b[49m\u001b[38;5;241;43m.\u001b[39;49m\u001b[43mencoding\u001b[49m\u001b[43m,\u001b[49m\n\u001b[0;32m    877\u001b[0m \u001b[43m            \u001b[49m\u001b[43merrors\u001b[49m\u001b[38;5;241;43m=\u001b[39;49m\u001b[43merrors\u001b[49m\u001b[43m,\u001b[49m\n\u001b[0;32m    878\u001b[0m \u001b[43m            \u001b[49m\u001b[43mnewline\u001b[49m\u001b[38;5;241;43m=\u001b[39;49m\u001b[38;5;124;43m\"\u001b[39;49m\u001b[38;5;124;43m\"\u001b[39;49m\u001b[43m,\u001b[49m\n\u001b[0;32m    879\u001b[0m \u001b[43m        \u001b[49m\u001b[43m)\u001b[49m\n\u001b[0;32m    880\u001b[0m     \u001b[38;5;28;01melse\u001b[39;00m:\n\u001b[0;32m    881\u001b[0m         \u001b[38;5;66;03m# Binary mode\u001b[39;00m\n\u001b[0;32m    882\u001b[0m         handle \u001b[38;5;241m=\u001b[39m \u001b[38;5;28mopen\u001b[39m(handle, ioargs\u001b[38;5;241m.\u001b[39mmode)\n",
      "\u001b[1;31mFileNotFoundError\u001b[0m: [Errno 2] No such file or directory: '/content/sample_data/day.csv'"
     ]
    }
   ],
   "source": [
    "# Memuat data dari file day.csv yang ada di folder sample_data\n",
    "day_df = pd.read_csv('/content/sample_data/day.csv')\n",
    "\n",
    "# Memuat data dari file hour.csv yang ada di folder sample_data\n",
    "hour_df = pd.read_csv('/content/sample_data/hour.csv')"
   ]
  },
  {
   "cell_type": "markdown",
   "metadata": {
    "id": "MMi6xGaDkbCi"
   },
   "source": [
    "**Insight:**\n",
    "- day.csv menyimpan informasi tentang penyewaan sepeda yang dicatat setiap hari.\n",
    "- hour.csv menyimpan informasi tentang penyewaan sepeda yang dicatat setiap jam."
   ]
  },
  {
   "cell_type": "markdown",
   "metadata": {
    "id": "FHSiqaZp8DC1"
   },
   "source": [
    "### Assessing Data"
   ]
  },
  {
   "cell_type": "code",
   "execution_count": null,
   "metadata": {
    "colab": {
     "base_uri": "https://localhost:8080/",
     "height": 313
    },
    "id": "ax-3tEjc9Cj1",
    "outputId": "a6413368-df47-4fed-e2c2-9c10e6e5cf52"
   },
   "outputs": [],
   "source": [
    "# Menampilkan beberapa baris pertama dari data day_df\n",
    "day_df.head()"
   ]
  },
  {
   "cell_type": "code",
   "execution_count": null,
   "metadata": {
    "colab": {
     "base_uri": "https://localhost:8080/"
    },
    "id": "3Lhq2Jn4kcyq",
    "outputId": "1ef5f245-a029-46ad-a209-99bda797fd19"
   },
   "outputs": [],
   "source": [
    "# Menampilkan informasi umum tentang struktur data day_df\n",
    "day_df.info()"
   ]
  },
  {
   "cell_type": "code",
   "execution_count": null,
   "metadata": {
    "colab": {
     "base_uri": "https://localhost:8080/",
     "height": 320
    },
    "id": "lsN8RL3qkl2z",
    "outputId": "0be8e413-33f5-459f-dccf-8ccab6d5c30b"
   },
   "outputs": [],
   "source": [
    "# Menampilkan statistik deskriptif dari data day_df\n",
    "day_df.describe()\n"
   ]
  },
  {
   "cell_type": "code",
   "execution_count": null,
   "metadata": {
    "colab": {
     "base_uri": "https://localhost:8080/",
     "height": 293
    },
    "id": "jwrTm_kpknWk",
    "outputId": "8a430f28-c20c-4565-a528-97c594ea5c75"
   },
   "outputs": [],
   "source": [
    "# Menampilkan beberapa baris pertama dari data hour_df\n",
    "hour_df.head()"
   ]
  },
  {
   "cell_type": "code",
   "execution_count": null,
   "metadata": {
    "colab": {
     "base_uri": "https://localhost:8080/"
    },
    "id": "ThDAOLCGko6X",
    "outputId": "1ad0027b-07f6-4780-8c47-a22dec5d7c22"
   },
   "outputs": [],
   "source": [
    "# Menampilkan informasi umum tentang struktur data hour_df\n",
    "hour_df.info()"
   ]
  },
  {
   "cell_type": "code",
   "execution_count": null,
   "metadata": {
    "colab": {
     "base_uri": "https://localhost:8080/",
     "height": 320
    },
    "id": "J8DjwR1Xkrm8",
    "outputId": "9efc3d52-feea-4cf4-8079-ff2afe8cfae3"
   },
   "outputs": [],
   "source": [
    "# Menampilkan statistik deskriptif dari data hour_df\n",
    "hour_df.describe()"
   ]
  },
  {
   "cell_type": "code",
   "execution_count": null,
   "metadata": {
    "colab": {
     "base_uri": "https://localhost:8080/",
     "height": 585
    },
    "id": "xiJQwkAanKng",
    "outputId": "5612c929-df93-40cd-f22c-3ac771a42203"
   },
   "outputs": [],
   "source": [
    "# Mengecek jumlah nilai yang hilang di setiap kolom\n",
    "day_df.isnull().sum()\n"
   ]
  },
  {
   "cell_type": "code",
   "execution_count": null,
   "metadata": {
    "colab": {
     "base_uri": "https://localhost:8080/",
     "height": 585
    },
    "id": "ZgJBDaAqnS5E",
    "outputId": "185c055f-2e8e-45a6-d8db-32396b1135f4"
   },
   "outputs": [],
   "source": [
    "# Mengecek persentase nilai yang hilang di setiap kolom\n",
    "day_df.isnull().mean() * 100"
   ]
  },
  {
   "cell_type": "code",
   "execution_count": null,
   "metadata": {
    "colab": {
     "base_uri": "https://localhost:8080/"
    },
    "id": "h1NXLyzKyTx2",
    "outputId": "9e8f597e-0a8b-43f4-8ee7-4ddd89bfb453"
   },
   "outputs": [],
   "source": [
    "# Missing Values\n",
    "print(\"\\nMissing Values:\")\n",
    "print(day_df.isnull().sum())\n",
    "print(hour_df.isnull().sum())"
   ]
  },
  {
   "cell_type": "code",
   "execution_count": null,
   "metadata": {
    "colab": {
     "base_uri": "https://localhost:8080/"
    },
    "id": "fqv324yinNMR",
    "outputId": "fdc8d8f8-d628-4957-ec0d-93778385e93c"
   },
   "outputs": [],
   "source": [
    "# Mengecek jumlah baris duplikat\n",
    "day_df.duplicated().sum()\n"
   ]
  },
  {
   "cell_type": "markdown",
   "metadata": {
    "id": "7dtxhAPrkhPL"
   },
   "source": [
    "**Insight:**\n",
    "- Beberapa kolom masih perlu penyesuaian tipe data, contohnya kolom dteday yang seharusnya dikonversi ke format datetime.\n",
    "\n",
    "- Dataset ini bersih dari nilai kosong atau data yang hilang.\n",
    "\n",
    "- Karena tidak ditemukan data duplikat, setiap entri bersifat unik. Hal ini menguntungkan dalam proses analisis karena tidak ada risiko bias dari data yang terulang, sehingga hasil analisis maupun model yang dibangun menjadi lebih akurat.-"
   ]
  },
  {
   "cell_type": "markdown",
   "metadata": {
    "id": "EhN5R4hr8DC1"
   },
   "source": [
    "### Cleaning Data"
   ]
  },
  {
   "cell_type": "code",
   "execution_count": null,
   "metadata": {
    "id": "jVnYpprE9Evz"
   },
   "outputs": [],
   "source": [
    "# Mengubah tipe data kolom 'dteday' menjadi datetime\n",
    "day_df['dteday'] = pd.to_datetime(day_df['dteday'])\n",
    "hour_df['dteday'] = pd.to_datetime(hour_df['dteday'])"
   ]
  },
  {
   "cell_type": "markdown",
   "metadata": {
    "id": "Q_5ejIqckiSP"
   },
   "source": [
    "**Insight:**\n",
    "- Tipe data kolom 'dteday' telah diubah menjadi datetime.\n"
   ]
  },
  {
   "cell_type": "markdown",
   "metadata": {
    "id": "gp-Y6wU38DC1"
   },
   "source": [
    "## Exploratory Data Analysis (EDA)"
   ]
  },
  {
   "cell_type": "markdown",
   "metadata": {
    "id": "MW7WF2kr8DC1"
   },
   "source": [
    "### Explore ..."
   ]
  },
  {
   "cell_type": "code",
   "execution_count": null,
   "metadata": {
    "colab": {
     "base_uri": "https://localhost:8080/"
    },
    "id": "e9CQCZjk8DC2",
    "outputId": "8409fdba-bf0e-4a98-c770-3561b6cab601"
   },
   "outputs": [],
   "source": [
    "# Ringkasan Data Harian\n",
    "print(\"Ringkasan Data Harian:\")\n",
    "print(day_df.info())\n"
   ]
  },
  {
   "cell_type": "code",
   "execution_count": null,
   "metadata": {
    "colab": {
     "base_uri": "https://localhost:8080/"
    },
    "id": "eV28ijOfoTQo",
    "outputId": "e253b071-69bb-4d6d-9ca5-478ac988722a"
   },
   "outputs": [],
   "source": [
    "# Ringkasan Data Per Jam\n",
    "print(\"\\nRingkasan Data Per Jam:\")\n",
    "print(hour_df.info())"
   ]
  },
  {
   "cell_type": "code",
   "execution_count": null,
   "metadata": {
    "colab": {
     "base_uri": "https://localhost:8080/"
    },
    "id": "cE87v4ke8poN",
    "outputId": "a847c84e-01c3-4cc8-e965-ffcc79f555bf"
   },
   "outputs": [],
   "source": [
    "# Statistik Deskriptif\n",
    "print(\"\\nStatistik Deskriptif Data Harian:\")\n",
    "print(day_df.describe())\n",
    "print(\"\\nStatistik Deskriptif Data Per Jam:\")\n",
    "print(hour_df.describe())"
   ]
  },
  {
   "cell_type": "code",
   "execution_count": null,
   "metadata": {
    "colab": {
     "base_uri": "https://localhost:8080/",
     "height": 947
    },
    "id": "DLI9-3P58sIX",
    "outputId": "a5d4e956-0e34-4a4b-d5f1-c49328ca6975"
   },
   "outputs": [],
   "source": [
    "# Distribusi Variabel Numerik\n",
    "plt.figure(figsize=(12, 6))\n",
    "day_df.hist(bins=30, figsize=(12, 10), color='skyblue', edgecolor='black')\n",
    "plt.suptitle('Distribusi Variabel Numerik (Data Harian)')\n",
    "plt.show()"
   ]
  },
  {
   "cell_type": "code",
   "execution_count": null,
   "metadata": {
    "colab": {
     "base_uri": "https://localhost:8080/",
     "height": 487
    },
    "id": "xRQbBcN08vgH",
    "outputId": "dd46dae9-6230-415e-b9f3-3d7aa7af30b0"
   },
   "outputs": [],
   "source": [
    "# Distribusi Penyewaan Sepeda (cnt)\n",
    "plt.figure(figsize=(10, 5))\n",
    "sns.histplot(day_df['cnt'], bins=30, kde=True, color='blue')\n",
    "plt.title('Distribusi Jumlah Penyewaan Sepeda (Data Harian)')\n",
    "plt.xlabel('Jumlah Penyewaan')\n",
    "plt.ylabel('Frekuensi')\n",
    "plt.show()"
   ]
  },
  {
   "cell_type": "code",
   "execution_count": null,
   "metadata": {
    "colab": {
     "base_uri": "https://localhost:8080/",
     "height": 1000
    },
    "id": "1t0tvU6H8xk_",
    "outputId": "82917f84-a9bc-48d6-9a00-7affeca77ff3"
   },
   "outputs": [],
   "source": [
    "# Pola Penyewaan Sepeda Berdasarkan Waktu\n",
    "plt.figure(figsize=(10, 5))\n",
    "sns.boxplot(x='weekday', y='cnt', data=day_df, palette='coolwarm')\n",
    "plt.title('Pola Penyewaan Sepeda Berdasarkan Hari dalam Seminggu')\n",
    "plt.xlabel('Hari (0=Senin, 6=Minggu)')\n",
    "plt.ylabel('Jumlah Penyewaan')\n",
    "plt.show()\n",
    "\n",
    "plt.figure(figsize=(12, 5))\n",
    "sns.boxplot(x='hr', y='cnt', data=hour_df, palette='viridis')\n",
    "plt.title('Pola Penyewaan Sepeda Berdasarkan Jam')\n",
    "plt.xlabel('Jam')\n",
    "plt.ylabel('Jumlah Penyewaan')\n",
    "plt.show()"
   ]
  },
  {
   "cell_type": "code",
   "execution_count": null,
   "metadata": {
    "colab": {
     "base_uri": "https://localhost:8080/",
     "height": 594
    },
    "id": "ewfwc4KA86le",
    "outputId": "340e89e7-9983-47ab-ed35-ff388afcf5f7"
   },
   "outputs": [],
   "source": [
    "# Pengaruh Cuaca terhadap Penyewaan Sepeda\n",
    "plt.figure(figsize=(8, 5))\n",
    "sns.boxplot(x='weathersit', y='cnt', data=day_df, palette='Set2')\n",
    "plt.title('Pengaruh Cuaca terhadap Penyewaan Sepeda')\n",
    "plt.xlabel('Kondisi Cuaca (1=Cerah, 2=Mendung, 3=Hujan)')\n",
    "plt.ylabel('Jumlah Penyewaan')\n",
    "plt.show()"
   ]
  },
  {
   "cell_type": "markdown",
   "metadata": {
    "id": "th_Lzl2Fkj9O"
   },
   "source": [
    "**Insight:**\n",
    "- Data dalam dataset bersih tanpa nilai yang hilang, sehingga tidak diperlukan proses imputasi atau pembersihan tambahan.\n",
    "\n",
    "- Variabel suhu (temp) menunjukkan korelasi positif dengan total penyewaan sepeda (cnt), yang berarti semakin tinggi suhu, semakin banyak sepeda yang digunakan.\n",
    "\n",
    "- Kelembaban udara (hum) dan kecepatan angin (windspeed) berkorelasi negatif dengan jumlah penyewaan, mengindikasikan bahwa kondisi cuaca yang ekstrem dapat mengurangi minat pengguna.\n",
    "\n",
    "- Penyewaan sepeda lebih banyak terjadi pada hari kerja dibandingkan akhir pekan, menandakan bahwa layanan ini lebih sering dimanfaatkan oleh kalangan pekerja atau pelajar untuk keperluan mobilitas rutin.\n",
    "\n",
    "- Waktu puncak penyewaan di hari kerja terjadi pada pukul 07:00–09:00 dan 17:00–19:00, yang sesuai dengan jam keberangkatan dan kepulangan kerja atau sekolah.\n",
    "\n",
    "- Di akhir pekan, pola penyewaan lebih menyebar sepanjang hari, dengan peningkatan jumlah penyewaan pada siang hingga sore hari.\n",
    "\n",
    "- Kondisi cuaca cerah (weathersit = 1) menghasilkan angka penyewaan tertinggi.\n",
    "\n",
    "- Saat cuaca mendung (weathersit = 2), jumlah penyewaan menurun sedikit namun tetap tergolong tinggi.\n",
    "\n",
    "- Dalam kondisi hujan atau badai (weathersit ≥ 3), jumlah penyewaan turun secara signifikan.\n"
   ]
  },
  {
   "cell_type": "markdown",
   "metadata": {
    "id": "zsyZjqak8DC2"
   },
   "source": [
    "## Visualization & Explanatory Analysis"
   ]
  },
  {
   "cell_type": "markdown",
   "metadata": {
    "id": "HZxOiQ6n8DC2"
   },
   "source": [
    "### Pertanyaan 1:  Apa perbedaan dampak cuaca terhadap jumlah penyewaan sepeda di hari kerja dan akhir pekan selama setahun terakhir?"
   ]
  },
  {
   "cell_type": "code",
   "execution_count": null,
   "metadata": {
    "colab": {
     "base_uri": "https://localhost:8080/",
     "height": 487
    },
    "id": "1swJUdAD8DC2",
    "outputId": "ed560a7f-d787-4d87-ea08-162fc9dc96f0"
   },
   "outputs": [],
   "source": [
    "plt.figure(figsize=(10, 5))\n",
    "\n",
    "# Menentukan warna hijau untuk hari kerja dan merah untuk akhir pekan)\n",
    "sns.barplot(x='weathersit', y='cnt', hue='workingday', data=day_df, palette={0: 'red', 1: 'green'})\n",
    "\n",
    "plt.title('Pengaruh Cuaca terhadap Penyewaan Sepeda (Hari Kerja vs Akhir Pekan)')\n",
    "plt.xlabel('Kondisi Cuaca (1=Cerah, 2=Mendung, 3=Hujan)')\n",
    "plt.ylabel('Jumlah Penyewaan')\n",
    "\n",
    "# Menambahkan garis ke dalam legenda untuk 'Hari Kerja' dan 'Akhir Pekan'\n",
    "legend_akhir_pekan = mlines.Line2D([], [], color='red', label='Akhir Pekan', linewidth=6)\n",
    "legend_hari_kerja = mlines.Line2D([], [], color='green', label='Hari Kerja', linewidth=6)\n",
    "\n",
    "# Menambahkan legenda dengan garis\n",
    "plt.legend(handles=[legend_akhir_pekan, legend_hari_kerja], title='Hari Kerja', loc='upper right', frameon=False)\n",
    "\n",
    "plt.show()\n"
   ]
  },
  {
   "cell_type": "markdown",
   "metadata": {
    "id": "DgHI7CiU8DC2"
   },
   "source": [
    "### Pertanyaan 2: Kapan waktu puncak penyewaan sepeda terjadi pada hari kerja dan akhir pekan, serta bagaimana variasi pola tersebut di setiap musim?"
   ]
  },
  {
   "cell_type": "code",
   "execution_count": null,
   "metadata": {
    "colab": {
     "base_uri": "https://localhost:8080/",
     "height": 564
    },
    "id": "bPAxkgyUMf2m",
    "outputId": "5f821129-231d-45e2-fdcb-f368fb605f43"
   },
   "outputs": [],
   "source": [
    "plt.figure(figsize=(12, 6))\n",
    "sns.lineplot(x='hr', y='cnt', hue='season', data=hour_df[hour_df['workingday'] == 1], palette='tab10')\n",
    "plt.title('Pola Penyewaan Sepeda Berdasarkan Jam pada Hari Kerja')\n",
    "plt.xlabel('Jam')\n",
    "plt.ylabel('Jumlah Penyewaan')\n",
    "plt.legend(title='Musim', labels=['Musim Semi', 'Musim Panas', 'Musim Gugur', 'Musim Dingin'])\n",
    "plt.show()"
   ]
  },
  {
   "cell_type": "code",
   "execution_count": null,
   "metadata": {
    "colab": {
     "base_uri": "https://localhost:8080/",
     "height": 564
    },
    "id": "-LIFpXq-Aopi",
    "outputId": "ac9ee879-3b5a-4ed2-d749-3448ff1065f9"
   },
   "outputs": [],
   "source": [
    "plt.figure(figsize=(12, 6))\n",
    "sns.lineplot(x='hr', y='cnt', hue='season', data=hour_df[hour_df['workingday'] == 0], palette='tab10')\n",
    "plt.title('Pola Penyewaan Sepeda Berdasarkan Jam pada Akhir Pekan')\n",
    "plt.xlabel('Jam')\n",
    "plt.ylabel('Jumlah Penyewaan')\n",
    "plt.legend(title='Musim', labels=['Musim Semi', 'Musim Panas', 'Musim Gugur', 'Musim Dingin'])\n",
    "plt.show()"
   ]
  },
  {
   "cell_type": "markdown",
   "metadata": {
    "id": "_0-36BDLklRg"
   },
   "source": [
    "**Insight:**\n",
    "- Aktivitas penyewaan sepeda cenderung meningkat saat cuaca cerah, baik pada hari kerja maupun akhir pekan.\n",
    "\n",
    "- Di hari kerja, penyewaan tetap relatif stabil meskipun cuaca mendung, sedangkan pada akhir pekan fluktuasinya lebih terlihat.\n",
    "\n",
    "- Cuaca hujan menyebabkan penurunan tajam dalam jumlah penyewaan, menandakan bahwa pengguna lebih memilih tidak menggunakan sepeda dalam kondisi cuaca buruk.\n",
    "\n",
    "- Pola penyewaan menunjukkan bahwa faktor cuaca memainkan peran penting dalam menentukan intensitas penggunaan sepeda.\n",
    "\n",
    "- Di hari kerja, terdapat dua waktu puncak penyewaan yakni pada pukul 07:00–09:00 dan 17:00–19:00, yang bertepatan dengan jam sibuk.\n",
    "\n",
    "- Di akhir pekan, penyewaan sepeda cenderung tersebar lebih merata sepanjang hari, dengan peningkatan kecil di siang hingga sore hari.\n",
    "\n",
    "- Jumlah penyewaan tertinggi tercatat pada musim panas dan musim gugur, sementara musim semi dan musim dingin menunjukkan angka yang lebih rendah.\n",
    "\n",
    "- Jumlah penyewaan yang menurun di musim dingin menunjukkan bahwa suhu yang dingin turut mempengaruhi minat pengguna dalam menyewa sepeda.\n",
    "\n",
    "- Secara umum, penyewaan sepeda lebih sedikit terjadi pada larut malam hingga dini hari, mencerminkan pola penggunaan yang konsisten terkait waktu."
   ]
  },
  {
   "cell_type": "markdown",
   "metadata": {
    "id": "9y4VUsmcYNZ5"
   },
   "source": [
    "## Analisis Lanjutan (Opsional)"
   ]
  },
  {
   "cell_type": "code",
   "execution_count": null,
   "metadata": {
    "colab": {
     "base_uri": "https://localhost:8080/",
     "height": 594
    },
    "id": "iWhnzsJGYUCO",
    "outputId": "636ec524-e5c9-40e4-fad5-161c841b146c"
   },
   "outputs": [],
   "source": [
    "plt.figure(figsize=(8, 5))\n",
    "sns.barplot(x='weekday', y='cnt', data=day_df, palette='coolwarm')\n",
    "plt.title('Rata-rata Penyewaan Sepeda Berdasarkan Hari dalam Seminggu')\n",
    "plt.xlabel('Hari (0=Minggu, 6=Sabtu)')\n",
    "plt.ylabel('Jumlah Penyewaan')\n",
    "plt.show()"
   ]
  },
  {
   "cell_type": "code",
   "execution_count": null,
   "metadata": {
    "colab": {
     "base_uri": "https://localhost:8080/",
     "height": 487
    },
    "id": "LLXctdi0h84_",
    "outputId": "ec1955a2-9594-4475-a3ca-d62e8c5caba3"
   },
   "outputs": [],
   "source": [
    "# Analisis tambahan: Tren Penyewaan Sepeda Berdasarkan Tahun\n",
    "plt.figure(figsize=(10, 5))\n",
    "sns.lineplot(x='yr', y='cnt', data=day_df, marker='o', color='b')\n",
    "plt.title('Tren Penyewaan Sepeda Berdasarkan Tahun')\n",
    "plt.xlabel('Tahun (0=2011, 1=2012)')\n",
    "plt.ylabel('Jumlah Penyewaan')\n",
    "plt.show()"
   ]
  },
  {
   "cell_type": "markdown",
   "metadata": {
    "id": "_WeHlCeX8DC2"
   },
   "source": [
    "## Conclusion"
   ]
  },
  {
   "cell_type": "markdown",
   "metadata": {
    "id": "ZTcyR48Y8DC2"
   },
   "source": [
    "Kesimpulan Pertanyaan 1: Kondisi cuaca terbukti berpengaruh cukup besar terhadap frekuensi penyewaan sepeda. Jumlah penyewaan cenderung meningkat saat cuaca cerah atau hanya mendung ringan. Sebaliknya, saat hujan, angka penyewaan menurun secara drastis, baik pada hari kerja maupun akhir pekan.\n",
    "\n",
    "Kesimpulan Pertanyaan 2: Aktivitas penyewaan sepeda di hari kerja menunjukkan pola yang konsisten, dengan lonjakan pada jam-jam sibuk pagi dan sore hari. Sementara itu, pada akhir pekan, distribusi penyewaan lebih merata sepanjang hari. Musim panas dan musim gugur menjadi periode dengan tingkat penyewaan tertinggi, sedangkan musim dingin menunjukkan angka terendah. Waktu ideal untuk menyewa sepeda di hari kerja adalah saat pagi dan sore, sementara akhir pekan memberikan fleksibilitas waktu yang lebih luas."
   ]
  },
  {
   "cell_type": "code",
   "execution_count": null,
   "metadata": {
    "id": "tqRr2hswKFSh"
   },
   "outputs": [],
   "source": []
  }
 ],
 "metadata": {
  "accelerator": "TPU",
  "colab": {
   "gpuType": "V28",
   "provenance": []
  },
  "kernelspec": {
   "display_name": "Python 3 (ipykernel)",
   "language": "python",
   "name": "python3"
  },
  "language_info": {
   "codemirror_mode": {
    "name": "ipython",
    "version": 3
   },
   "file_extension": ".py",
   "mimetype": "text/x-python",
   "name": "python",
   "nbconvert_exporter": "python",
   "pygments_lexer": "ipython3",
   "version": "3.11.5"
  },
  "vscode": {
   "interpreter": {
    "hash": "972b3bf27e332e87b5379f2791f6ef9dfc79c71018c370b0d7423235e20fe4d7"
   }
  }
 },
 "nbformat": 4,
 "nbformat_minor": 4
}
